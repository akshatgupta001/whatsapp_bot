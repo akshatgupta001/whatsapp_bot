{
 "cells": [
  {
   "cell_type": "code",
   "execution_count": 1,
   "metadata": {},
   "outputs": [],
   "source": [
    "from selenium import webdriver\n",
    "from selenium.webdriver.chrome.options import Options\n",
    "from selenium.webdriver.common.keys import Keys\n",
    "from selenium.webdriver.common.action_chains import ActionChains\n",
    "from requests import get\n",
    "from bs4 import BeautifulSoup as bs\n",
    "import keyboard\n",
    "import time\n",
    "import click\n",
    "import os\n",
    "import sys\n",
    "import csv\n",
    "import threading"
   ]
  },
  {
   "cell_type": "code",
   "execution_count": 2,
   "metadata": {},
   "outputs": [],
   "source": [
    "\n",
    "driver = webdriver.Chrome()\n",
    "driver.get('https://web.whatsapp.com/')\n",
    "\n",
    "# input(\"Scan QR and press any key\")\n",
    "test_again = 1\n"
   ]
  },
  {
   "cell_type": "code",
   "execution_count": 23,
   "metadata": {},
   "outputs": [
    {
     "name": "stdout",
     "output_type": "stream",
     "text": [
      "Aryan || तभमथद | 7:55 pm\n",
      "  // sent to Aryan\n"
     ]
    }
   ],
   "source": [
    "def spam(name, msg, count):\n",
    "\tuser = driver.find_element_by_xpath('//span[@title = \"{}\"]'.format(name))\n",
    "\tuser.click()\n",
    "\n",
    "\tmsg_box = driver.find_element_by_class_name('_1Plpp')\n",
    "\n",
    "\tfor i in range(count):\n",
    "\t\tmsg_box.send_keys(msg)\n",
    "\t\tprint(\"  // sent to {}\".format(name))\n",
    "\t\tbutton = driver.find_element_by_class_name('_35EW6')\n",
    "\t\tbutton.click()"
   ]
  },
  {
   "cell_type": "code",
   "execution_count": 4,
   "metadata": {},
   "outputs": [],
   "source": [
    "# while test_again>0 :\n",
    "# \tname = input(\"Enter the name of user or group : \")\n",
    "# \tmsg = input(\"Enter the message : \")\n",
    "# \tcount = int(input(\"Enter count : \"))\n",
    "# \tspam(name,msg,count)\n",
    "# \ttest_again = int(input(\"press 1 try again ? \"))\n"
   ]
  },
  {
   "cell_type": "code",
   "execution_count": 28,
   "metadata": {},
   "outputs": [
    {
     "name": "stdout",
     "output_type": "stream",
     "text": [
      "Mom || Meeting URL:  | 12:57 pm\n",
      "Mom || Meeting URL:  | 12:57 pm\n"
     ]
    },
    {
     "name": "stderr",
     "output_type": "stream",
     "text": [
      "Exception in thread Thread-456:\n",
      "Traceback (most recent call last):\n",
      "  File \"/Library/Frameworks/Python.framework/Versions/3.8/lib/python3.8/threading.py\", line 932, in _bootstrap_inner\n",
      "    self.run()\n",
      "  File \"/Library/Frameworks/Python.framework/Versions/3.8/lib/python3.8/threading.py\", line 1254, in run\n",
      "    self.function(*self.args, **self.kwargs)\n",
      "  File \"<ipython-input-21-a9875513b62f>\", line 28, in repeatfun\n",
      "AttributeError: 'str' object has no attribute 'find_all'\n"
     ]
    },
    {
     "name": "stdout",
     "output_type": "stream",
     "text": [
      "  // sent to Mom\n",
      "  // sent to Mom\n"
     ]
    },
    {
     "name": "stderr",
     "output_type": "stream",
     "text": [
      "Exception in thread Thread-455:\n",
      "Traceback (most recent call last):\n",
      "  File \"/Library/Frameworks/Python.framework/Versions/3.8/lib/python3.8/threading.py\", line 932, in _bootstrap_inner\n",
      "    self.run()\n",
      "  File \"/Library/Frameworks/Python.framework/Versions/3.8/lib/python3.8/threading.py\", line 1254, in run\n",
      "    self.function(*self.args, **self.kwargs)\n",
      "  File \"<ipython-input-21-a9875513b62f>\", line 38, in repeatfun\n",
      "  File \"<ipython-input-23-0ee0048e6148>\", line 10, in spam\n",
      "  File \"/Library/Frameworks/Python.framework/Versions/3.8/lib/python3.8/site-packages/selenium/webdriver/remote/webdriver.py\", line 564, in find_element_by_class_name\n",
      "    return self.find_element(by=By.CLASS_NAME, value=name)\n",
      "  File \"/Library/Frameworks/Python.framework/Versions/3.8/lib/python3.8/site-packages/selenium/webdriver/remote/webdriver.py\", line 976, in find_element\n",
      "    return self.execute(Command.FIND_ELEMENT, {\n",
      "  File \"/Library/Frameworks/Python.framework/Versions/3.8/lib/python3.8/site-packages/selenium/webdriver/remote/webdriver.py\", line 321, in execute\n",
      "    self.error_handler.check_response(response)\n",
      "  File \"/Library/Frameworks/Python.framework/Versions/3.8/lib/python3.8/site-packages/selenium/webdriver/remote/errorhandler.py\", line 242, in check_response\n",
      "    raise exception_class(message, screen, stacktrace)\n",
      "selenium.common.exceptions.NoSuchElementException: Message: no such element: Unable to locate element: {\"method\":\"css selector\",\"selector\":\"._35EW6\"}\n",
      "  (Session info: chrome=81.0.4044.138)\n",
      "\n",
      "Exception in thread Thread-457:\n",
      "Traceback (most recent call last):\n",
      "  File \"/Library/Frameworks/Python.framework/Versions/3.8/lib/python3.8/threading.py\", line 932, in _bootstrap_inner\n",
      "    self.run()\n",
      "  File \"/Library/Frameworks/Python.framework/Versions/3.8/lib/python3.8/threading.py\", line 1254, in run\n",
      "    self.function(*self.args, **self.kwargs)\n",
      "  File \"<ipython-input-21-a9875513b62f>\", line 28, in repeatfun\n",
      "AttributeError: 'str' object has no attribute 'find_all'\n",
      "Exception in thread Thread-458:\n",
      "Traceback (most recent call last):\n",
      "  File \"/Library/Frameworks/Python.framework/Versions/3.8/lib/python3.8/threading.py\", line 932, in _bootstrap_inner\n",
      "    self.run()\n",
      "  File \"/Library/Frameworks/Python.framework/Versions/3.8/lib/python3.8/threading.py\", line 1254, in run\n",
      "    self.function(*self.args, **self.kwargs)\n",
      "  File \"<ipython-input-21-a9875513b62f>\", line 28, in repeatfun\n",
      "AttributeError: 'str' object has no attribute 'find_all'\n",
      "Exception in thread Thread-459:\n",
      "Traceback (most recent call last):\n",
      "  File \"/Library/Frameworks/Python.framework/Versions/3.8/lib/python3.8/threading.py\", line 932, in _bootstrap_inner\n",
      "    self.run()\n",
      "  File \"/Library/Frameworks/Python.framework/Versions/3.8/lib/python3.8/threading.py\", line 1254, in run\n",
      "    self.function(*self.args, **self.kwargs)\n",
      "  File \"<ipython-input-21-a9875513b62f>\", line 28, in repeatfun\n",
      "AttributeError: 'str' object has no attribute 'find_all'\n",
      "Exception in thread Thread-460:\n",
      "Traceback (most recent call last):\n",
      "  File \"/Library/Frameworks/Python.framework/Versions/3.8/lib/python3.8/threading.py\", line 932, in _bootstrap_inner\n",
      "    self.run()\n",
      "  File \"/Library/Frameworks/Python.framework/Versions/3.8/lib/python3.8/threading.py\", line 1254, in run\n",
      "    self.function(*self.args, **self.kwargs)\n",
      "  File \"<ipython-input-21-a9875513b62f>\", line 28, in repeatfun\n",
      "AttributeError: 'str' object has no attribute 'find_all'\n",
      "Exception in thread Thread-461:\n",
      "Traceback (most recent call last):\n",
      "  File \"/Library/Frameworks/Python.framework/Versions/3.8/lib/python3.8/threading.py\", line 932, in _bootstrap_inner\n",
      "    self.run()\n",
      "  File \"/Library/Frameworks/Python.framework/Versions/3.8/lib/python3.8/threading.py\", line 1254, in run\n",
      "    self.function(*self.args, **self.kwargs)\n",
      "  File \"<ipython-input-21-a9875513b62f>\", line 28, in repeatfun\n",
      "AttributeError: 'str' object has no attribute 'find_all'\n",
      "Exception in thread Thread-462:\n",
      "Traceback (most recent call last):\n",
      "  File \"/Library/Frameworks/Python.framework/Versions/3.8/lib/python3.8/threading.py\", line 932, in _bootstrap_inner\n",
      "    self.run()\n",
      "  File \"/Library/Frameworks/Python.framework/Versions/3.8/lib/python3.8/threading.py\", line 1254, in run\n",
      "    self.function(*self.args, **self.kwargs)\n",
      "  File \"<ipython-input-21-a9875513b62f>\", line 28, in repeatfun\n",
      "AttributeError: 'str' object has no attribute 'find_all'\n",
      "Exception in thread Thread-463:\n",
      "Traceback (most recent call last):\n",
      "  File \"/Library/Frameworks/Python.framework/Versions/3.8/lib/python3.8/threading.py\", line 932, in _bootstrap_inner\n",
      "    self.run()\n",
      "  File \"/Library/Frameworks/Python.framework/Versions/3.8/lib/python3.8/threading.py\", line 1254, in run\n",
      "    self.function(*self.args, **self.kwargs)\n",
      "  File \"<ipython-input-21-a9875513b62f>\", line 28, in repeatfun\n",
      "AttributeError: 'str' object has no attribute 'find_all'\n",
      "Exception in thread Thread-464:\n",
      "Traceback (most recent call last):\n",
      "  File \"/Library/Frameworks/Python.framework/Versions/3.8/lib/python3.8/threading.py\", line 932, in _bootstrap_inner\n",
      "    self.run()\n",
      "  File \"/Library/Frameworks/Python.framework/Versions/3.8/lib/python3.8/threading.py\", line 1254, in run\n",
      "    self.function(*self.args, **self.kwargs)\n",
      "  File \"<ipython-input-21-a9875513b62f>\", line 28, in repeatfun\n",
      "AttributeError: 'str' object has no attribute 'find_all'\n",
      "Exception in thread Thread-465:\n",
      "Traceback (most recent call last):\n",
      "  File \"/Library/Frameworks/Python.framework/Versions/3.8/lib/python3.8/threading.py\", line 932, in _bootstrap_inner\n",
      "    self.run()\n",
      "  File \"/Library/Frameworks/Python.framework/Versions/3.8/lib/python3.8/threading.py\", line 1254, in run\n",
      "    self.function(*self.args, **self.kwargs)\n",
      "  File \"<ipython-input-21-a9875513b62f>\", line 28, in repeatfun\n",
      "AttributeError: 'str' object has no attribute 'find_all'\n",
      "Exception in thread Thread-466:\n",
      "Traceback (most recent call last):\n",
      "  File \"/Library/Frameworks/Python.framework/Versions/3.8/lib/python3.8/threading.py\", line 932, in _bootstrap_inner\n",
      "    self.run()\n",
      "  File \"/Library/Frameworks/Python.framework/Versions/3.8/lib/python3.8/threading.py\", line 1254, in run\n",
      "    self.function(*self.args, **self.kwargs)\n",
      "  File \"<ipython-input-21-a9875513b62f>\", line 28, in repeatfun\n",
      "AttributeError: 'str' object has no attribute 'find_all'\n",
      "Exception in thread Thread-467:\n",
      "Traceback (most recent call last):\n",
      "  File \"/Library/Frameworks/Python.framework/Versions/3.8/lib/python3.8/threading.py\", line 932, in _bootstrap_inner\n",
      "    self.run()\n",
      "  File \"/Library/Frameworks/Python.framework/Versions/3.8/lib/python3.8/threading.py\", line 1254, in run\n",
      "    self.function(*self.args, **self.kwargs)\n",
      "  File \"<ipython-input-21-a9875513b62f>\", line 28, in repeatfun\n",
      "AttributeError: 'str' object has no attribute 'find_all'\n",
      "Exception in thread Thread-468:\n",
      "Traceback (most recent call last):\n",
      "  File \"/Library/Frameworks/Python.framework/Versions/3.8/lib/python3.8/threading.py\", line 932, in _bootstrap_inner\n",
      "    self.run()\n",
      "  File \"/Library/Frameworks/Python.framework/Versions/3.8/lib/python3.8/threading.py\", line 1254, in run\n",
      "    self.function(*self.args, **self.kwargs)\n",
      "  File \"<ipython-input-21-a9875513b62f>\", line 28, in repeatfun\n",
      "AttributeError: 'str' object has no attribute 'find_all'\n"
     ]
    },
    {
     "name": "stdout",
     "output_type": "stream",
     "text": [
      "Mom || Yeh kya bheja h xD | cant find\n",
      "Mom || Yeh kya bheja h xD | cant find\n",
      "  // sent to Mom\n",
      "  // sent to Mom\n",
      "Mom || Meeting URL:  | 12:57 pm\n",
      "  // sent to Mom\n",
      "Mom || WWE to | 8:05 pm\n",
      "  // sent to Mom\n",
      "Mom || Yeh kya bheja h xD | cant find\n",
      "  // sent to Mom\n",
      "Mom || So | 8:05 pm\n",
      "  // sent to Mom\n"
     ]
    }
   ],
   "source": [
    "def find_person(target = 'Siddharth Verma DTU'):\n",
    "    panel = driver.find_element_by_id('pane-side')\n",
    "\n",
    "    elem = None\n",
    "    a = 0\n",
    "    while (elem is None) and (a <10000):\n",
    "        a += 300\n",
    "        try:\n",
    "            driver.execute_script('arguments[0].scrollTop = %s' %a, panel)\n",
    "            elem = driver.find_element_by_xpath('//span[@title=\"{}\"]'.format(target))\n",
    "        except:\n",
    "            pass\n",
    "\n",
    "    ac = ActionChains(driver)\n",
    "    if elem is not None:\n",
    "        ac.move_to_element(elem).click().perform()\n",
    "    time.sleep(2)\n",
    "\n",
    "    url = driver.page_source\n",
    "    # page_source loads latest HTML code"
   ]
  },
  {
   "cell_type": "code",
   "execution_count": 6,
   "metadata": {},
   "outputs": [],
   "source": [
    "# _3FXB1 selectable-text invisible-space copyable-text\n",
    "# \"vW7d1 message-in focusable-list-item // for last message in stream\n",
    "#  vW7d1 _1T1d2 message-in focusable-list-item // for first message followed by others"
   ]
  },
  {
   "cell_type": "code",
   "execution_count": 8,
   "metadata": {},
   "outputs": [
    {
     "name": "stdout",
     "output_type": "stream",
     "text": [
      "Siddharth Verma DTU || - | -\n"
     ]
    }
   ],
   "source": [
    "url = driver.page_source\n",
    "soup = bs(url, \"lxml\")\n",
    "try:\n",
    "    gotdiv = soup.find_all(\"div\", { \"class\" : \"vW7d1 message-in focusable-list-item\" })[-1]\n",
    "    \n",
    "except IndexError:\n",
    "    gotdiv = 'null'\n",
    "    \n",
    "spans = gotdiv.find_all('span')\n",
    "\n",
    "try:\n",
    "    text = spans[-4].find_all(text=True)[0]\n",
    "    time = spans[-2].find_all(text=True)[0]\n",
    "except:\n",
    "    text = \"-\"\n",
    "    time = \"-\"\n",
    "    \n",
    "try:\n",
    "    name_div = soup.find_all(\"div\", { \"class\" : \"_5SiUq\" })[-1]\n",
    "except IndexError:\n",
    "    name_div = 'null'\n",
    "if not name_div == 'null':\n",
    "    name = name_div.find_all('span')[0]\n",
    "    name = name.find_all(text=True)[-1]\n",
    "    \n",
    "print(name,\"||\",text,\"|\", time)"
   ]
  },
  {
   "cell_type": "code",
   "execution_count": 32,
   "metadata": {},
   "outputs": [
    {
     "name": "stdout",
     "output_type": "stream",
     "text": [
      "Priyanka Sinha || Assignment submit krna | 7:47 pm\n"
     ]
    }
   ],
   "source": [
    "prev_name,prev_text = (\"NULL\",\" NULL\")\n",
    "prev_time = \"NULL\"\n"
   ]
  },
  {
   "cell_type": "code",
   "execution_count": 37,
   "metadata": {},
   "outputs": [],
   "source": [
    "def repeatfun():\n",
    "    timer = threading.Timer(5.0, repeatfun)\n",
    "    timer.start()\n",
    "    global prev_text\n",
    "    global prev_name\n",
    "    global targets\n",
    "    \n",
    "    url = driver.page_source\n",
    "    soup = bs(url, \"lxml\")\n",
    "    #     Get Name\n",
    "    try:\n",
    "        name_div = soup.find_all(\"div\", { \"class\" : \"_5SiUq\" })[-1]\n",
    "    except IndexError:\n",
    "        name_div = 'null'\n",
    "    if not name_div == 'null':\n",
    "        name = name_div.find_all('span')[0].find_all(text=True)[-1]\n",
    "        \n",
    "    \n",
    "            \n",
    "        \n",
    "#     Get last text\n",
    "    try:\n",
    "        gotdiv = soup.find_all(\"div\", { \"class\" : \"vW7d1 message-in focusable-list-item\" })[-1]\n",
    "    except IndexError:\n",
    "        gotdiv = 'null'\n",
    "        \n",
    "    if gotdiv :\n",
    "        spans = gotdiv.find_all('span')\n",
    "        try:\n",
    "            text = spans[-4].find_all(text=True)[0]\n",
    "            time = spans[-2].find_all(text=True)[0]\n",
    "        except:\n",
    "            text = \"Yeh kya bheja h xD\"\n",
    "            time = \"cant find\"\n",
    "        if not(text == prev_text):\n",
    "            print(name,\"||\",text,\"|\", time)\n",
    "            if name in targets:\n",
    "                spam(name,text,1)\n",
    "        \n",
    "    prev_text = text\n",
    "    prev_name = name\n",
    "\n",
    "            \n",
    "    \n",
    "    \n",
    "    "
   ]
  },
  {
   "cell_type": "code",
   "execution_count": 38,
   "metadata": {},
   "outputs": [
    {
     "name": "stdout",
     "output_type": "stream",
     "text": [
      "Siddharth Verma DTU || Yeh kya bheja h xD | cant find\n",
      "Mom || So | 8:05 pm\n",
      "  // sent to Mom\n",
      "Mom || So | 8:05 pm\n",
      "  // sent to Mom\n"
     ]
    }
   ],
   "source": [
    "targets = [\"Aryan\", \"Sidharth Verma DTU\",\"Mom\",\"Bot\",\"Bakchodi\",\"Priyanka Sinha\"]\n",
    "repeatfun()"
   ]
  },
  {
   "cell_type": "code",
   "execution_count": null,
   "metadata": {},
   "outputs": [],
   "source": []
  }
 ],
 "metadata": {
  "kernelspec": {
   "display_name": "Python 3",
   "language": "python",
   "name": "python3"
  },
  "language_info": {
   "codemirror_mode": {
    "name": "ipython",
    "version": 3
   },
   "file_extension": ".py",
   "mimetype": "text/x-python",
   "name": "python",
   "nbconvert_exporter": "python",
   "pygments_lexer": "ipython3",
   "version": "3.8.0"
  }
 },
 "nbformat": 4,
 "nbformat_minor": 4
}
